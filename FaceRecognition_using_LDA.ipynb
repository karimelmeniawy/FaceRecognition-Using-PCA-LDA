{
  "nbformat": 4,
  "nbformat_minor": 0,
  "metadata": {
    "colab": {
      "name": "FaceRecognition using LDA.ipynb",
      "provenance": []
    },
    "kernelspec": {
      "name": "python3",
      "display_name": "Python 3"
    }
  },
  "cells": [
    {
      "cell_type": "code",
      "metadata": {
        "id": "M5r310gpuLwA",
        "colab_type": "code",
        "colab": {}
      },
      "source": [
        "import pandas as pd\n",
        "from PIL import Image\n",
        "import numpy as np\n",
        "import cv2\n",
        "import os\n",
        "import glob\n",
        "from google.colab import drive\n",
        "import bottleneck as bn\n",
        "from sklearn.model_selection import train_test_split\n",
        "from sklearn.preprocessing import StandardScaler \n",
        "from sklearn.preprocessing import scale\n",
        "from sklearn.metrics import classification_report\n",
        "from sklearn.neighbors import KNeighborsClassifier\n",
        "from sklearn.metrics import accuracy_score\n",
        "import matplotlib.pyplot as plt\n",
        "from sklearn.preprocessing import LabelEncoder\n",
        "from scipy import ndimage, misc"
      ],
      "execution_count": 0,
      "outputs": []
    },
    {
      "cell_type": "code",
      "metadata": {
        "id": "toT-Lf7Yu0ZZ",
        "colab_type": "code",
        "colab": {}
      },
      "source": [
        "drive.mount('/content/gdrive')\n",
        "data=[]\n",
        "for i in range(1,41):\n",
        "  for j in range(1,11):\n",
        "    path='/content/gdrive/My Drive/Colab Notebooks/data/s'+str(i)+'/'\n",
        "    img=Image.open(path+str(j)+'.pgm')\n",
        "    temp=np.array(img).reshape(10304)\n",
        "    data.append(temp)\n",
        "\n",
        "D = np.array([x for x in data])\n",
        "D = D.reshape((400, 10304))"
      ],
      "execution_count": 0,
      "outputs": []
    },
    {
      "cell_type": "code",
      "metadata": {
        "id": "bbnMEoibu0WL",
        "colab_type": "code",
        "colab": {}
      },
      "source": [
        "labels = []\n",
        "for i in range(1, 41):\n",
        "  labels.append(i * np.ones((10, 1)))\n",
        "  \n",
        "y = np.stack(labels, axis=0).reshape(400, 1)\n",
        "\n",
        "X_train = D[::2]\n",
        "y_train = y[::2]\n",
        "X_test = D[1::2]\n",
        "y_test = y[1::2]"
      ],
      "execution_count": 0,
      "outputs": []
    },
    {
      "cell_type": "markdown",
      "metadata": {
        "id": "7bbTAwIMu4_h",
        "colab_type": "text"
      },
      "source": [
        "**LDA** **Calculation**"
      ]
    },
    {
      "cell_type": "code",
      "metadata": {
        "id": "ptsCuK_7u0Ti",
        "colab_type": "code",
        "colab": {}
      },
      "source": [
        "means=np.zeros([10304,40])\n",
        "for i in range(40):\n",
        "  temp=np.mean(X_train[i*5:(i*5)+5],axis=0)\n",
        "  means[:,i]=temp"
      ],
      "execution_count": 0,
      "outputs": []
    },
    {
      "cell_type": "code",
      "metadata": {
        "id": "QyLnKZMeu0Qp",
        "colab_type": "code",
        "colab": {}
      },
      "source": [
        "overallMean=(np.mean(X_train,axis=0))\n",
        "Sb=np.zeros([10304,10304])\n",
        "for i in range(40):\n",
        "  Sb += 5*np.outer((means[:,i]-overallMean),np.transpose(means[:,i]-overallMean))\n",
        "Sb=np.array(Sb)"
      ],
      "execution_count": 0,
      "outputs": []
    },
    {
      "cell_type": "code",
      "metadata": {
        "id": "Y0oHOaXyu0OJ",
        "colab_type": "code",
        "colab": {}
      },
      "source": [
        "Z=np.zeros([200,10304])\n",
        "for i in range(40):\n",
        "  Z[5*i:(5*i)+5,:]=X_train[5*i:(5*i)+5,:]-means[:,i-1]"
      ],
      "execution_count": 0,
      "outputs": []
    },
    {
      "cell_type": "code",
      "metadata": {
        "id": "Z9MB7Vuzu0Lo",
        "colab_type": "code",
        "colab": {}
      },
      "source": [
        "S=np.zeros([10304,10304])\n",
        "for i in range(0,40):\n",
        "  temp=np.matmul(np.transpose(Z[5*i:(5*i)+5,:]),Z[5*i:(5*i)+5,:])\n",
        "  S=S+temp"
      ],
      "execution_count": 0,
      "outputs": []
    },
    {
      "cell_type": "code",
      "metadata": {
        "id": "Xa74y1geu0JU",
        "colab_type": "code",
        "colab": {}
      },
      "source": [
        "SInverse=np.linalg.pinv(S,hermitian=True)"
      ],
      "execution_count": 0,
      "outputs": []
    },
    {
      "cell_type": "code",
      "metadata": {
        "id": "Qoio5-tcu0HH",
        "colab_type": "code",
        "colab": {}
      },
      "source": [
        "SInverseB=np.matmul(SInverse,Sb)"
      ],
      "execution_count": 0,
      "outputs": []
    },
    {
      "cell_type": "code",
      "metadata": {
        "id": "zzFirFjLu0E4",
        "colab_type": "code",
        "colab": {}
      },
      "source": [
        "eigenValues,eigenVectors = np.linalg.eig(SInverseB)"
      ],
      "execution_count": 0,
      "outputs": []
    },
    {
      "cell_type": "code",
      "metadata": {
        "id": "mNojEOuHu0CT",
        "colab_type": "code",
        "colab": {}
      },
      "source": [
        "idx = eigenValues.argsort()[::-1]\n",
        "eigenValues =eigenValues[idx]\n",
        "eigenVectors =eigenVectors[:,idx]\n",
        "U=np.zeros([10304,39])\n",
        "U=eigenVectors[:,:39]"
      ],
      "execution_count": 0,
      "outputs": []
    },
    {
      "cell_type": "markdown",
      "metadata": {
        "id": "3WuS4qd1vTBv",
        "colab_type": "text"
      },
      "source": [
        "Projection on Data"
      ]
    },
    {
      "cell_type": "code",
      "metadata": {
        "id": "2FS7333Nu0AZ",
        "colab_type": "code",
        "colab": {}
      },
      "source": [
        "projection_train = X_train.dot((U))\n",
        "projection_test=X_test.dot((U))\n",
        "\n",
        "projected_train = np.array(projection_train)\n",
        "projected_test = np.array(projection_test)\n",
        "\n",
        "projected_train = projected_train.real\n",
        "projected_test = projected_test.real\n",
        "print (projected_train.shape)\n",
        "print(y_train.shape)\n",
        "neighbours=[1,3,5,7]\n",
        "accuracy=[]\n",
        "for neighbor in neighbours:\n",
        "  KNN = KNeighborsClassifier(n_neighbors=neighbor)\n",
        "  KNN.fit(projected_train, y_train) \n",
        "  prediction = KNN.predict(projected_test)\n",
        "  print(neighbor , ' neighbour total accuracy:', accuracy_score( y_test, prediction), '\\n\\n')\n",
        "  accuracy.append(accuracy_score( y_test, prediction))\n",
        "print(np.array(accuracy))"
      ],
      "execution_count": 0,
      "outputs": []
    },
    {
      "cell_type": "code",
      "metadata": {
        "id": "0kOCYFDiuz96",
        "colab_type": "code",
        "colab": {}
      },
      "source": [
        "plt.plot(neighbours,accuracy)\n",
        "plt.title(\"Accuracy to Number of Neighbors\")\n",
        "plt.xlabel(\"K Neighbors\")\n",
        "plt.ylabel(\"Accuracy\")\n",
        "plt.show()"
      ],
      "execution_count": 0,
      "outputs": []
    },
    {
      "cell_type": "markdown",
      "metadata": {
        "id": "lMw8QFt7uy_q",
        "colab_type": "text"
      },
      "source": [
        ""
      ]
    }
  ]
}