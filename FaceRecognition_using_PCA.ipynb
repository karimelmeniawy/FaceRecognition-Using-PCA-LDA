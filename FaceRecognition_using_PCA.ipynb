{
  "nbformat": 4,
  "nbformat_minor": 0,
  "metadata": {
    "colab": {
      "name": "FaceRecognition using PCA.ipynb",
      "provenance": []
    },
    "kernelspec": {
      "name": "python3",
      "display_name": "Python 3"
    }
  },
  "cells": [
    {
      "cell_type": "code",
      "metadata": {
        "id": "fBkctA4quJtv",
        "colab_type": "code",
        "colab": {}
      },
      "source": [
        "import pandas as pd\n",
        "from PIL import Image\n",
        "import numpy as np\n",
        "import cv2\n",
        "import os\n",
        "import glob\n",
        "from google.colab import drive\n",
        "import bottleneck as bn\n",
        "from sklearn.model_selection import train_test_split\n",
        "from sklearn.preprocessing import StandardScaler \n",
        "from sklearn.preprocessing import scale\n",
        "from sklearn.metrics import classification_report\n",
        "from sklearn.neighbors import KNeighborsClassifier\n",
        "from sklearn.metrics import accuracy_score\n",
        "import matplotlib.pyplot as plt\n",
        "from sklearn.preprocessing import LabelEncoder\n",
        "from scipy import ndimage, misc"
      ],
      "execution_count": 0,
      "outputs": []
    },
    {
      "cell_type": "code",
      "metadata": {
        "id": "tgz10XyMvzzw",
        "colab_type": "code",
        "colab": {}
      },
      "source": [
        "drive.mount('/content/gdrive')\n",
        "data=[]\n",
        "for i in range(1,41):\n",
        "  for j in range(1,11):\n",
        "    path='/content/gdrive/My Drive/Colab Notebooks/data/s'+str(i)+'/'\n",
        "    img=Image.open(path+str(j)+'.pgm')\n",
        "    temp=np.array(img).reshape(10304)\n",
        "    data.append(temp)\n",
        "\n",
        "D = np.array([x for x in data])\n",
        "D = D.reshape((400, 10304))"
      ],
      "execution_count": 0,
      "outputs": []
    },
    {
      "cell_type": "code",
      "metadata": {
        "id": "-_8TZEc9vzw5",
        "colab_type": "code",
        "colab": {}
      },
      "source": [
        "X_std = X_train\n",
        "aplha=np.array([[0.8,0.85,0.9,0.95]])\n",
        "\n",
        "#compute mean\n",
        "mew = np.mean(X_std, axis=0).reshape(10304,1)\n",
        "z=X_std-mew.transpose()\n",
        "print(z)"
      ],
      "execution_count": 0,
      "outputs": []
    },
    {
      "cell_type": "code",
      "metadata": {
        "id": "e4hXj8GivzuQ",
        "colab_type": "code",
        "colab": {}
      },
      "source": [
        "#compute covariance matrix\n",
        "cov_matrix = np.dot(z.transpose(),z) / (X_std.shape[0]-1)\n",
        "print(pd.DataFrame(cov_matrix))\n",
        "cov_mat2=np.cov(z,rowvar=False)\n",
        "print(pd.DataFrame(cov_mat2))"
      ],
      "execution_count": 0,
      "outputs": []
    },
    {
      "cell_type": "code",
      "metadata": {
        "id": "sAYhs1f9vzr0",
        "colab_type": "code",
        "colab": {}
      },
      "source": [
        "#compute eigenvalues and eigenvectors\n",
        "\n",
        "eigenValues,eigenVectors = np.linalg.eig(cov_mat2)\n",
        "pd.DataFrame(eigenValues)"
      ],
      "execution_count": 0,
      "outputs": []
    },
    {
      "cell_type": "code",
      "metadata": {
        "id": "ZfDmECoEvzpY",
        "colab_type": "code",
        "colab": {}
      },
      "source": [
        "pd.DataFrame(eigenVectors)"
      ],
      "execution_count": 0,
      "outputs": []
    },
    {
      "cell_type": "code",
      "metadata": {
        "id": "LkBJUqp5vznB",
        "colab_type": "code",
        "colab": {}
      },
      "source": [
        "#sort eigenValues and eigenVectors desc\n",
        "idx = eigenValues.argsort()[::-1]\n",
        "eigenValues =eigenValues[idx]\n",
        "eigenVectors =eigenVectors[:,idx]\n"
      ],
      "execution_count": 0,
      "outputs": []
    },
    {
      "cell_type": "code",
      "metadata": {
        "id": "3xlFgsgrvzkj",
        "colab_type": "code",
        "colab": {}
      },
      "source": [
        "eigenSum =np.sum(eigenValues) #sum of eigenValues\n",
        "eigenSum"
      ],
      "execution_count": 0,
      "outputs": []
    },
    {
      "cell_type": "markdown",
      "metadata": {
        "id": "8kizu5igwQFR",
        "colab_type": "text"
      },
      "source": [
        "Choose Dimensionality\n"
      ]
    },
    {
      "cell_type": "code",
      "metadata": {
        "id": "p7V-h-X_vziQ",
        "colab_type": "code",
        "colab": {}
      },
      "source": [
        "#choose dimensionality\n",
        "\n",
        "#for alpha = 0.8\n",
        "alpha = 0.8\n",
        "sum = 0\n",
        "for i in range(0,len(eigenValues)):\n",
        "  sum +=eigenValues[i]\n",
        "  fr = sum / eigenSum\n",
        "  if fr >= alpha:\n",
        "    break\n",
        "pro=np.zeros((10304,i))\n",
        "for j in range(i):\n",
        "  pro[:,j]=eigenVectors[:,j]\n",
        "projected_train=X_train.dot(pro)\n",
        "projected_test=X_test.dot(pro)\n",
        "print(projected_test.shape)\n",
        "KNN = KNeighborsClassifier(n_neighbors=1)\n",
        "KNN.fit(projected_train.real, y_train) \n",
        "y_pred = KNN.predict(projected_test)\n",
        "print(accuracy_score(y_test, y_pred))\n",
        "\n",
        "neighbours=[1,3,5,7]\n",
        "accuracy=[]\n",
        "for neighbor in neighbours:\n",
        "  KNN = KNeighborsClassifier(n_neighbors=neighbor)\n",
        "  KNN.fit(projected_train.real, y_train) \n",
        "  prediction = KNN.predict(projected_test)\n",
        "\n",
        "  print(neighbor , ' neighbour total accuracy:', accuracy_score( y_test, prediction), '\\n\\n')\n",
        "  accuracy.append(accuracy_score( y_test, prediction))\n",
        "print(np.array(accuracy))\n",
        "K = [1,3,5,7]\n",
        "plt.plot(K, accuracy)\n",
        "plt.show()"
      ],
      "execution_count": 0,
      "outputs": []
    },
    {
      "cell_type": "code",
      "metadata": {
        "id": "GOdxh_CWvzfn",
        "colab_type": "code",
        "colab": {}
      },
      "source": [
        "#for alpha = 0.85\n",
        "alpha = 0.85\n",
        "sum = 0\n",
        "for i in range(0,len(eigenValues)):\n",
        "  sum +=eigenValues[i]\n",
        "  fr = sum / eigenSum\n",
        "  if fr > alpha:\n",
        "    break\n",
        "pro=np.zeros((10304,i))\n",
        "for j in range(i):\n",
        "  pro[:,j]=eigenVectors[:,j]\n",
        "projected_train=X_train.dot(pro)\n",
        "projected_test=X_test.dot(pro)\n",
        "print(projected_test.shape)\n",
        "KNN = KNeighborsClassifier(n_neighbors=1)\n",
        "KNN.fit(projected_train, y_train) \n",
        "y_pred = KNN.predict(projected_test)\n",
        "\n",
        "\n",
        "neighbours=[1,3,5,7]\n",
        "accuracy=[]\n",
        "for neighbor in neighbours:\n",
        "  KNN = KNeighborsClassifier(n_neighbors=neighbor)\n",
        "  KNN.fit(projected_train.real, y_train) \n",
        "  prediction = KNN.predict(projected_test)\n",
        "\n",
        "  print(neighbor , ' neighbour total accuracy:', accuracy_score( y_test, prediction), '\\n\\n')\n",
        "  accuracy.append(accuracy_score( y_test, prediction))\n",
        "K = [1,3,5,7]\n",
        "plt.plot(K, accuracy)\n",
        "plt.show()"
      ],
      "execution_count": 0,
      "outputs": []
    },
    {
      "cell_type": "code",
      "metadata": {
        "id": "OcAg3I7EvzaN",
        "colab_type": "code",
        "colab": {}
      },
      "source": [
        "#for alpha = 0.9\n",
        "alpha = 0.9\n",
        "sum = 0\n",
        "for i in range(0,len(eigenValues)):\n",
        "  sum +=eigenValues[i]\n",
        "  fr = sum / eigenSum\n",
        "  if fr > alpha:\n",
        "    break\n",
        "pro=np.zeros((10304,i))\n",
        "for j in range(i):\n",
        "  pro[:,j]=eigenVectors[:,j]\n",
        "projected_train=X_train.dot(pro)\n",
        "projected_test=X_test.dot(pro)\n",
        "print(projected_test.shape)\n",
        "KNN = KNeighborsClassifier(n_neighbors=1)\n",
        "KNN.fit(projected_train, y_train) \n",
        "y_pred = KNN.predict(projected_test)\n",
        "\n",
        "print(accuracy_score(y_test, y_pred))\n",
        "\n",
        "\n",
        "neighbours=[1,3,5,7]\n",
        "accuracy=[]\n",
        "for neighbor in neighbours:\n",
        "  KNN = KNeighborsClassifier(n_neighbors=neighbor)\n",
        "  KNN.fit(projected_train.real, y_train) \n",
        "  prediction = KNN.predict(projected_test)\n",
        "\n",
        "  print(neighbor , ' neighbour total accuracy:', accuracy_score( y_test, prediction), '\\n\\n')\n",
        "  accuracy.append(accuracy_score( y_test, prediction))\n",
        "print(np.array(accuracy))\n",
        "plt.plot(K, accuracy)\n",
        "plt.show()"
      ],
      "execution_count": 0,
      "outputs": []
    },
    {
      "cell_type": "code",
      "metadata": {
        "id": "p479BMN9vzXj",
        "colab_type": "code",
        "colab": {}
      },
      "source": [
        "#for alpha = 0.95\n",
        "alpha = 0.95\n",
        "sum = 0\n",
        "for i in range(0,len(eigenValues)):\n",
        "  sum +=eigenValues[i]\n",
        "  fr = sum / eigenSum\n",
        "  if fr > alpha:\n",
        "    break\n",
        "pro=np.zeros((10304,i))\n",
        "for j in range(i):\n",
        "  pro[:,j]=eigenVectors[:,j]\n",
        "projected_train=X_train.dot(pro)\n",
        "projected_test=X_test.dot(pro)\n",
        "print(projected_test.shape)\n",
        "KNN = KNeighborsClassifier(n_neighbors=1)\n",
        "KNN.fit(projected_train, y_train) \n",
        "y_pred = KNN.predict(projected_test)\n",
        "\n",
        "print(accuracy_score(y_test, y_pred))\n",
        "\n",
        "neighbours=[1,3,5,7]\n",
        "accuracy=[]\n",
        "for neighbor in neighbours:\n",
        "  KNN = KNeighborsClassifier(n_neighbors=neighbor)\n",
        "  KNN.fit(projected_train.real, y_train) \n",
        "  prediction = KNN.predict(projected_test)\n",
        "\n",
        "  print(neighbor , ' neighbour total accuracy:', accuracy_score( y_test, prediction), '\\n\\n')\n",
        "  accuracy.append(accuracy_score( y_test, prediction))\n",
        "print(np.array(accuracy))\n",
        "plt.plot(K, accuracy)\n",
        "plt.show()"
      ],
      "execution_count": 0,
      "outputs": []
    },
    {
      "cell_type": "code",
      "metadata": {
        "id": "pCDj6rRzvzUr",
        "colab_type": "code",
        "colab": {}
      },
      "source": [
        "projected_train = np.array(projected_train)\n",
        "projected_test = np.array(projected_test)\n",
        "\n",
        "projected_train = projected_train.real\n",
        "projected_test = projected_test.real\n",
        "\n",
        "accuracy = [] \n",
        "\n",
        "KNN = KNeighborsClassifier(n_neighbors=1)\n",
        "KNN.fit(projected_train.real, y_train) \n",
        "prediction = KNN.predict(projected_test)\n",
        "accuracy.append(accuracy_score( y_test, prediction))\n",
        "\n",
        "\n",
        "print('1 neighbour total accuracy:', accuracy_score( y_test, prediction), '\\n\\n')\n",
        "\n",
        "KNN = KNeighborsClassifier(n_neighbors=3)\n",
        "KNN.fit(projected_train.real,  y_train) \n",
        "prediction = KNN.predict(projected_test)\n",
        "accuracy.append(accuracy_score( y_test, prediction))\n",
        "\n",
        "print('3 neighbours total accuracy:', accuracy_score( y_test, prediction), '\\n\\n')\n",
        "\n",
        "KNN = KNeighborsClassifier(n_neighbors=5)\n",
        "KNN.fit(projected_train.real, y_train) \n",
        "prediction = KNN.predict(projected_test)\n",
        "accuracy.append(accuracy_score( y_test, prediction))\n",
        "\n",
        "print('5 neighbours total accuracy:', accuracy_score( y_test, prediction), '\\n\\n')\n",
        "\n",
        "KNN = KNeighborsClassifier(n_neighbors=7)\n",
        "KNN.fit(projected_train.real, y_train) \n",
        "prediction = KNN.predict(projected_test)\n",
        "accuracy.append(accuracy_score( y_test, prediction))\n",
        "\n",
        "print('7 neighbours total accuracy:', accuracy_score( y_test, prediction), '\\n\\n')"
      ],
      "execution_count": 0,
      "outputs": []
    },
    {
      "cell_type": "code",
      "metadata": {
        "id": "fTj_ohWGvzSK",
        "colab_type": "code",
        "colab": {}
      },
      "source": [
        "plt.plot(K, accuracy)\n",
        "plt.show()"
      ],
      "execution_count": 0,
      "outputs": []
    }
  ]
}